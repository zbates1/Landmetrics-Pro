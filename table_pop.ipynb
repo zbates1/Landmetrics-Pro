{
 "cells": [
  {
   "cell_type": "code",
   "execution_count": null,
   "metadata": {},
   "outputs": [],
   "source": [
    "!pip install faker"
   ]
  },
  {
   "cell_type": "code",
   "execution_count": null,
   "metadata": {},
   "outputs": [],
   "source": [
    "# 1. Import required components\n",
    "from website import create_app, db  # Import the create_app function from your website module\n",
    "from website.models import User, Device, DeviceData  # Adjust this import to match where your models are located\n",
    "from faker import Faker\n",
    "import random\n",
    "from werkzeug.security import generate_password_hash\n",
    "from datetime import datetime, timedelta\n",
    "\n",
    "# 2. Initialize the app and push the context\n",
    "app = create_app()\n",
    "app.app_context().push()\n",
    "\n",
    "# Initialize Faker\n",
    "faker = Faker()\n",
    "\n",
    "# Ensure the database schema is created (in case it hasn't been)\n",
    "db.create_all()"
   ]
  },
  {
   "cell_type": "code",
   "execution_count": null,
   "metadata": {},
   "outputs": [],
   "source": [
    "def create_fake_user(num_users=1):\n",
    "    users = []\n",
    "    for _ in range(num_users):\n",
    "        # Generate a fake user\n",
    "        email = faker.email()\n",
    "        password = generate_password_hash(faker.password(), method='pbkdf2:sha256')\n",
    "        first_name = faker.first_name()\n",
    "\n",
    "        user = User(email=email, password=password, first_name=first_name)\n",
    "        db.session.add(user)\n",
    "        users.append(user)\n",
    "    \n",
    "    db.session.commit()\n",
    "    return users\n",
    "\n",
    "# Create 5 fake users\n",
    "fake_users = create_fake_user(5)\n"
   ]
  },
  {
   "cell_type": "code",
   "execution_count": null,
   "metadata": {},
   "outputs": [],
   "source": [
    "def add_device_to_user(user, num_devices=1):\n",
    "    devices = []\n",
    "    for _ in range(num_devices):\n",
    "        # Generate a fake device for the user\n",
    "        device_name = faker.word() + \" Device\"\n",
    "        device_type = random.choice(['Sensor', 'Monitor', 'Tracker'])\n",
    "        serial_number = faker.unique.uuid4()\n",
    "\n",
    "        device = Device(name=device_name, type=device_type, serial_number=serial_number, user_id=user.id)\n",
    "        db.session.add(device)\n",
    "        devices.append(device)\n",
    "    \n",
    "    db.session.commit()\n",
    "    return devices\n",
    "\n",
    "# Add 2 devices to each user\n",
    "for user in fake_users:\n",
    "    add_device_to_user(user, num_devices=2)\n"
   ]
  },
  {
   "cell_type": "code",
   "execution_count": null,
   "metadata": {},
   "outputs": [],
   "source": [
    "def add_device_data(device, num_entries=10):\n",
    "    for _ in range(num_entries):\n",
    "        timestamp = faker.date_time_between(start_date=\"-30d\", end_date=\"now\")\n",
    "        value1 = random.uniform(0.0, 100.0)  # Random float between 0 and 100\n",
    "        value2 = random.uniform(0.0, 100.0)\n",
    "\n",
    "        device_data = DeviceData(device_id=device.id, timestamp=timestamp, value1=value1, value2=value2)\n",
    "        db.session.add(device_data)\n",
    "    \n",
    "    db.session.commit()\n",
    "\n",
    "# Add fake data to all devices\n",
    "all_devices = Device.query.all()\n",
    "for device in all_devices:\n",
    "    add_device_data(device, num_entries=10)\n"
   ]
  }
 ],
 "metadata": {
  "language_info": {
   "name": "python"
  }
 },
 "nbformat": 4,
 "nbformat_minor": 2
}
